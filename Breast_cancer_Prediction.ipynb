{
  "nbformat": 4,
  "nbformat_minor": 0,
  "metadata": {
    "colab": {
      "name": "Breast_cancer_Prediction.ipynb",
      "provenance": [],
      "collapsed_sections": []
    },
    "kernelspec": {
      "name": "python3",
      "display_name": "Python 3"
    },
    "language_info": {
      "name": "python"
    }
  },
  "cells": [
    {
      "cell_type": "code",
      "metadata": {
        "id": "zJnlwdM4OWRw"
      },
      "source": [
        "import pandas as pd\n",
        "import numpy as np\n",
        "import matplotlib.pyplot as plt\n",
        "import seaborn as sns\n",
        "from sklearn.datasets import load_breast_cancer\n",
        "sample = load_breast_cancer()"
      ],
      "execution_count": 59,
      "outputs": []
    },
    {
      "cell_type": "code",
      "metadata": {
        "colab": {
          "base_uri": "https://localhost:8080/"
        },
        "id": "FslBYjp7On8g",
        "outputId": "b7413e5c-e3a8-45fe-94c6-eb86bbe81cdf"
      },
      "source": [
        "print(sample.DESCR)\n"
      ],
      "execution_count": 60,
      "outputs": [
        {
          "output_type": "stream",
          "text": [
            ".. _breast_cancer_dataset:\n",
            "\n",
            "Breast cancer wisconsin (diagnostic) dataset\n",
            "--------------------------------------------\n",
            "\n",
            "**Data Set Characteristics:**\n",
            "\n",
            "    :Number of Instances: 569\n",
            "\n",
            "    :Number of Attributes: 30 numeric, predictive attributes and the class\n",
            "\n",
            "    :Attribute Information:\n",
            "        - radius (mean of distances from center to points on the perimeter)\n",
            "        - texture (standard deviation of gray-scale values)\n",
            "        - perimeter\n",
            "        - area\n",
            "        - smoothness (local variation in radius lengths)\n",
            "        - compactness (perimeter^2 / area - 1.0)\n",
            "        - concavity (severity of concave portions of the contour)\n",
            "        - concave points (number of concave portions of the contour)\n",
            "        - symmetry \n",
            "        - fractal dimension (\"coastline approximation\" - 1)\n",
            "\n",
            "        The mean, standard error, and \"worst\" or largest (mean of the three\n",
            "        largest values) of these features were computed for each image,\n",
            "        resulting in 30 features.  For instance, field 3 is Mean Radius, field\n",
            "        13 is Radius SE, field 23 is Worst Radius.\n",
            "\n",
            "        - class:\n",
            "                - WDBC-Malignant\n",
            "                - WDBC-Benign\n",
            "\n",
            "    :Summary Statistics:\n",
            "\n",
            "    ===================================== ====== ======\n",
            "                                           Min    Max\n",
            "    ===================================== ====== ======\n",
            "    radius (mean):                        6.981  28.11\n",
            "    texture (mean):                       9.71   39.28\n",
            "    perimeter (mean):                     43.79  188.5\n",
            "    area (mean):                          143.5  2501.0\n",
            "    smoothness (mean):                    0.053  0.163\n",
            "    compactness (mean):                   0.019  0.345\n",
            "    concavity (mean):                     0.0    0.427\n",
            "    concave points (mean):                0.0    0.201\n",
            "    symmetry (mean):                      0.106  0.304\n",
            "    fractal dimension (mean):             0.05   0.097\n",
            "    radius (standard error):              0.112  2.873\n",
            "    texture (standard error):             0.36   4.885\n",
            "    perimeter (standard error):           0.757  21.98\n",
            "    area (standard error):                6.802  542.2\n",
            "    smoothness (standard error):          0.002  0.031\n",
            "    compactness (standard error):         0.002  0.135\n",
            "    concavity (standard error):           0.0    0.396\n",
            "    concave points (standard error):      0.0    0.053\n",
            "    symmetry (standard error):            0.008  0.079\n",
            "    fractal dimension (standard error):   0.001  0.03\n",
            "    radius (worst):                       7.93   36.04\n",
            "    texture (worst):                      12.02  49.54\n",
            "    perimeter (worst):                    50.41  251.2\n",
            "    area (worst):                         185.2  4254.0\n",
            "    smoothness (worst):                   0.071  0.223\n",
            "    compactness (worst):                  0.027  1.058\n",
            "    concavity (worst):                    0.0    1.252\n",
            "    concave points (worst):               0.0    0.291\n",
            "    symmetry (worst):                     0.156  0.664\n",
            "    fractal dimension (worst):            0.055  0.208\n",
            "    ===================================== ====== ======\n",
            "\n",
            "    :Missing Attribute Values: None\n",
            "\n",
            "    :Class Distribution: 212 - Malignant, 357 - Benign\n",
            "\n",
            "    :Creator:  Dr. William H. Wolberg, W. Nick Street, Olvi L. Mangasarian\n",
            "\n",
            "    :Donor: Nick Street\n",
            "\n",
            "    :Date: November, 1995\n",
            "\n",
            "This is a copy of UCI ML Breast Cancer Wisconsin (Diagnostic) datasets.\n",
            "https://goo.gl/U2Uwz2\n",
            "\n",
            "Features are computed from a digitized image of a fine needle\n",
            "aspirate (FNA) of a breast mass.  They describe\n",
            "characteristics of the cell nuclei present in the image.\n",
            "\n",
            "Separating plane described above was obtained using\n",
            "Multisurface Method-Tree (MSM-T) [K. P. Bennett, \"Decision Tree\n",
            "Construction Via Linear Programming.\" Proceedings of the 4th\n",
            "Midwest Artificial Intelligence and Cognitive Science Society,\n",
            "pp. 97-101, 1992], a classification method which uses linear\n",
            "programming to construct a decision tree.  Relevant features\n",
            "were selected using an exhaustive search in the space of 1-4\n",
            "features and 1-3 separating planes.\n",
            "\n",
            "The actual linear program used to obtain the separating plane\n",
            "in the 3-dimensional space is that described in:\n",
            "[K. P. Bennett and O. L. Mangasarian: \"Robust Linear\n",
            "Programming Discrimination of Two Linearly Inseparable Sets\",\n",
            "Optimization Methods and Software 1, 1992, 23-34].\n",
            "\n",
            "This database is also available through the UW CS ftp server:\n",
            "\n",
            "ftp ftp.cs.wisc.edu\n",
            "cd math-prog/cpo-dataset/machine-learn/WDBC/\n",
            "\n",
            ".. topic:: References\n",
            "\n",
            "   - W.N. Street, W.H. Wolberg and O.L. Mangasarian. Nuclear feature extraction \n",
            "     for breast tumor diagnosis. IS&T/SPIE 1993 International Symposium on \n",
            "     Electronic Imaging: Science and Technology, volume 1905, pages 861-870,\n",
            "     San Jose, CA, 1993.\n",
            "   - O.L. Mangasarian, W.N. Street and W.H. Wolberg. Breast cancer diagnosis and \n",
            "     prognosis via linear programming. Operations Research, 43(4), pages 570-577, \n",
            "     July-August 1995.\n",
            "   - W.H. Wolberg, W.N. Street, and O.L. Mangasarian. Machine learning techniques\n",
            "     to diagnose breast cancer from fine-needle aspirates. Cancer Letters 77 (1994) \n",
            "     163-171.\n"
          ],
          "name": "stdout"
        }
      ]
    },
    {
      "cell_type": "code",
      "metadata": {
        "colab": {
          "base_uri": "https://localhost:8080/"
        },
        "id": "7ZOkpzb7O0ok",
        "outputId": "40ed3e5d-0ffe-4793-fde3-98e1aa2d2a5d"
      },
      "source": [
        "features=sample.data\n",
        "target=sample.target\n",
        "#Print their shape\n",
        "\n",
        "print(features.shape)\n",
        "print(target.shape)"
      ],
      "execution_count": 61,
      "outputs": [
        {
          "output_type": "stream",
          "text": [
            "(569, 30)\n",
            "(569,)\n"
          ],
          "name": "stdout"
        }
      ]
    },
    {
      "cell_type": "code",
      "metadata": {
        "colab": {
          "base_uri": "https://localhost:8080/"
        },
        "id": "Amlmb4HBQIp7",
        "outputId": "cc417232-8e0f-4e85-d0bd-4751c6263ee7"
      },
      "source": [
        "from sklearn.model_selection import train_test_split\n",
        "X_train,X_test,Y_train,Y_test=train_test_split(features,target,test_size=0.2)\n",
        "print(X_train.shape)\n",
        "print(Y_train.shape)\n",
        "print(X_test.shape)\n",
        "print(Y_test.shape)"
      ],
      "execution_count": 62,
      "outputs": [
        {
          "output_type": "stream",
          "text": [
            "(455, 30)\n",
            "(455,)\n",
            "(114, 30)\n",
            "(114,)\n"
          ],
          "name": "stdout"
        }
      ]
    },
    {
      "cell_type": "code",
      "metadata": {
        "id": "8kUEQ0jHRRXi"
      },
      "source": [
        "from keras.models import Sequential\n",
        "from keras.layers import Dense\n",
        "model=Sequential()"
      ],
      "execution_count": 63,
      "outputs": []
    },
    {
      "cell_type": "code",
      "metadata": {
        "colab": {
          "base_uri": "https://localhost:8080/"
        },
        "id": "LWM9tsd1SCp6",
        "outputId": "f1ea34b5-d56e-41c2-f54d-d85d8bc06451"
      },
      "source": [
        "#hidden layer 1\n",
        "model.add(Dense(32,activation=\"relu\",input_dim=30))#Input dim = 30 as there are 30 features in the datset\n",
        "#hidden layer 2\n",
        "model.add(Dense(64,activation=\"relu\"))\n",
        "#OP Layer\n",
        "model.add(Dense(1,activation=\"sigmoid\"))\n",
        "model.compile(optimizer=\"adam\",loss=\"binary_crossentropy\",metrics=['accuracy'])\n",
        "model.summary()"
      ],
      "execution_count": 64,
      "outputs": [
        {
          "output_type": "stream",
          "text": [
            "Model: \"sequential_6\"\n",
            "_________________________________________________________________\n",
            "Layer (type)                 Output Shape              Param #   \n",
            "=================================================================\n",
            "dense_18 (Dense)             (None, 32)                992       \n",
            "_________________________________________________________________\n",
            "dense_19 (Dense)             (None, 64)                2112      \n",
            "_________________________________________________________________\n",
            "dense_20 (Dense)             (None, 1)                 65        \n",
            "=================================================================\n",
            "Total params: 3,169\n",
            "Trainable params: 3,169\n",
            "Non-trainable params: 0\n",
            "_________________________________________________________________\n"
          ],
          "name": "stdout"
        }
      ]
    },
    {
      "cell_type": "code",
      "metadata": {
        "colab": {
          "base_uri": "https://localhost:8080/"
        },
        "id": "lqS6PvBaTO63",
        "outputId": "4e80dd3f-175e-4b24-dbda-d63d721666ef"
      },
      "source": [
        "model.fit(X_train,Y_train,epochs=10,batch_size=32)"
      ],
      "execution_count": 65,
      "outputs": [
        {
          "output_type": "stream",
          "text": [
            "Epoch 1/10\n",
            "15/15 [==============================] - 1s 2ms/step - loss: 3.1502 - accuracy: 0.5547\n",
            "Epoch 2/10\n",
            "15/15 [==============================] - 0s 2ms/step - loss: 1.0366 - accuracy: 0.7298\n",
            "Epoch 3/10\n",
            "15/15 [==============================] - 0s 2ms/step - loss: 0.8129 - accuracy: 0.8101\n",
            "Epoch 4/10\n",
            "15/15 [==============================] - 0s 2ms/step - loss: 0.6330 - accuracy: 0.8325\n",
            "Epoch 5/10\n",
            "15/15 [==============================] - 0s 2ms/step - loss: 0.6584 - accuracy: 0.7752\n",
            "Epoch 6/10\n",
            "15/15 [==============================] - 0s 2ms/step - loss: 0.4404 - accuracy: 0.8747\n",
            "Epoch 7/10\n",
            "15/15 [==============================] - 0s 2ms/step - loss: 0.3577 - accuracy: 0.8960\n",
            "Epoch 8/10\n",
            "15/15 [==============================] - 0s 2ms/step - loss: 0.3457 - accuracy: 0.8726\n",
            "Epoch 9/10\n",
            "15/15 [==============================] - 0s 2ms/step - loss: 0.3578 - accuracy: 0.8882\n",
            "Epoch 10/10\n",
            "15/15 [==============================] - 0s 3ms/step - loss: 0.2396 - accuracy: 0.9094\n"
          ],
          "name": "stdout"
        },
        {
          "output_type": "execute_result",
          "data": {
            "text/plain": [
              "<keras.callbacks.History at 0x7f0383ba4690>"
            ]
          },
          "metadata": {
            "tags": []
          },
          "execution_count": 65
        }
      ]
    },
    {
      "cell_type": "code",
      "metadata": {
        "colab": {
          "base_uri": "https://localhost:8080/"
        },
        "id": "9y3EtVd6TzC-",
        "outputId": "625abf89-fb7d-419a-e16f-6bc1c909fa87"
      },
      "source": [
        "score=model.evaluate(X_test,Y_test)\n",
        "print(score)"
      ],
      "execution_count": 66,
      "outputs": [
        {
          "output_type": "stream",
          "text": [
            "4/4 [==============================] - 0s 3ms/step - loss: 0.1924 - accuracy: 0.9298\n",
            "[0.19237792491912842, 0.9298245906829834]\n"
          ],
          "name": "stdout"
        }
      ]
    },
    {
      "cell_type": "code",
      "metadata": {
        "colab": {
          "base_uri": "https://localhost:8080/"
        },
        "id": "0lBIxSmQT_zy",
        "outputId": "f2d0e9aa-0e1a-4e27-c438-fc7d685c5d0e"
      },
      "source": [
        "predictions = model.predict(X_test)\n",
        "label=[]\n",
        "for pred in predictions:\n",
        "  if pred > 0.5:\n",
        "    print(pred,\"Malignant\")\n",
        "  else:\n",
        "    print(pred,\"Beningn\")"
      ],
      "execution_count": 67,
      "outputs": [
        {
          "output_type": "stream",
          "text": [
            "[0.84679836] Malignant\n",
            "[0.0002121] Beningn\n",
            "[3.5088183e-06] Beningn\n",
            "[0.98294175] Malignant\n",
            "[0.6500636] Malignant\n",
            "[0.27509525] Beningn\n",
            "[0.9513218] Malignant\n",
            "[4.1848575e-06] Beningn\n",
            "[0.9710298] Malignant\n",
            "[0.97738516] Malignant\n",
            "[0.9926976] Malignant\n",
            "[0.00802287] Beningn\n",
            "[0.95075727] Malignant\n",
            "[0.01420173] Beningn\n",
            "[0.9330126] Malignant\n",
            "[9.490979e-05] Beningn\n",
            "[0.9448474] Malignant\n",
            "[0.9875498] Malignant\n",
            "[5.8628906e-05] Beningn\n",
            "[0.98512995] Malignant\n",
            "[0.99567306] Malignant\n",
            "[1.9982632e-14] Beningn\n",
            "[0.97676206] Malignant\n",
            "[1.13183e-07] Beningn\n",
            "[0.9485568] Malignant\n",
            "[0.9919051] Malignant\n",
            "[0.9258066] Malignant\n",
            "[0.82322824] Malignant\n",
            "[0.96324515] Malignant\n",
            "[0.99457204] Malignant\n",
            "[0.4065754] Beningn\n",
            "[0.96810126] Malignant\n",
            "[0.9606739] Malignant\n",
            "[0.9813785] Malignant\n",
            "[0.87823176] Malignant\n",
            "[0.9927386] Malignant\n",
            "[0.9917873] Malignant\n",
            "[1.2900645e-11] Beningn\n",
            "[0.56540924] Malignant\n",
            "[0.9890754] Malignant\n",
            "[1.371318e-07] Beningn\n",
            "[0.38129038] Beningn\n",
            "[4.4013274e-07] Beningn\n",
            "[0.00358322] Beningn\n",
            "[0.9644647] Malignant\n",
            "[0.82279515] Malignant\n",
            "[0.91339123] Malignant\n",
            "[0.81041366] Malignant\n",
            "[7.4425306e-09] Beningn\n",
            "[0.8308873] Malignant\n",
            "[0.9038283] Malignant\n",
            "[0.99056137] Malignant\n",
            "[3.1250788e-19] Beningn\n",
            "[3.020446e-10] Beningn\n",
            "[1.3228309e-05] Beningn\n",
            "[5.982869e-06] Beningn\n",
            "[0.98378694] Malignant\n",
            "[0.98440194] Malignant\n",
            "[0.9797808] Malignant\n",
            "[0.98791134] Malignant\n",
            "[0.75351954] Malignant\n",
            "[0.49787205] Beningn\n",
            "[1.46861485e-05] Beningn\n",
            "[0.8485421] Malignant\n",
            "[0.93107325] Malignant\n",
            "[0.7884917] Malignant\n",
            "[0.90622306] Malignant\n",
            "[0.05970401] Beningn\n",
            "[0.9326942] Malignant\n",
            "[0.91971886] Malignant\n",
            "[8.363065e-06] Beningn\n",
            "[0.6460387] Malignant\n",
            "[0.9775244] Malignant\n",
            "[0.99192166] Malignant\n",
            "[0.00015375] Beningn\n",
            "[0.83581764] Malignant\n",
            "[0.9820405] Malignant\n",
            "[0.00055596] Beningn\n",
            "[0.99323404] Malignant\n",
            "[0.982898] Malignant\n",
            "[0.99542403] Malignant\n",
            "[2.1635695e-05] Beningn\n",
            "[0.44557634] Beningn\n",
            "[0.8242471] Malignant\n",
            "[0.9888779] Malignant\n",
            "[0.9916166] Malignant\n",
            "[0.93101823] Malignant\n",
            "[0.99268377] Malignant\n",
            "[0.9653288] Malignant\n",
            "[1.3835676e-05] Beningn\n",
            "[0.92763925] Malignant\n",
            "[0.8084351] Malignant\n",
            "[0.9827602] Malignant\n",
            "[0.11502805] Beningn\n",
            "[2.5477595e-07] Beningn\n",
            "[0.9319917] Malignant\n",
            "[0.2986293] Beningn\n",
            "[0.9600351] Malignant\n",
            "[1.560087e-20] Beningn\n",
            "[0.97634935] Malignant\n",
            "[0.6771536] Malignant\n",
            "[0.8961389] Malignant\n",
            "[0.8266116] Malignant\n",
            "[0.01764581] Beningn\n",
            "[0.6080502] Malignant\n",
            "[0.93740463] Malignant\n",
            "[0.9110245] Malignant\n",
            "[0.07191098] Beningn\n",
            "[0.9905722] Malignant\n",
            "[0.2575919] Beningn\n",
            "[5.9117167e-10] Beningn\n",
            "[0.5577923] Malignant\n",
            "[4.6757273e-12] Beningn\n",
            "[0.98142457] Malignant\n"
          ],
          "name": "stdout"
        }
      ]
    }
  ]
}